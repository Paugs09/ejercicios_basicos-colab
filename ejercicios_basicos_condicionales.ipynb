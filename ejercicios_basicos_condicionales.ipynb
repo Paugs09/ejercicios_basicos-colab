{
  "nbformat": 4,
  "nbformat_minor": 0,
  "metadata": {
    "colab": {
      "provenance": [],
      "authorship_tag": "ABX9TyMmv5kYYHhcIKW0RSA4J0oo",
      "include_colab_link": true
    },
    "kernelspec": {
      "name": "python3",
      "display_name": "Python 3"
    },
    "language_info": {
      "name": "python"
    }
  },
  "cells": [
    {
      "cell_type": "markdown",
      "metadata": {
        "id": "view-in-github",
        "colab_type": "text"
      },
      "source": [
        "<a href=\"https://colab.research.google.com/github/Paugs09/ejercicios_basicos-colab/blob/main/ejercicios_basicos_condicionales.ipynb\" target=\"_parent\"><img src=\"https://colab.research.google.com/assets/colab-badge.svg\" alt=\"Open In Colab\"/></a>"
      ]
    },
    {
      "cell_type": "markdown",
      "source": [
        "# INSTRUCCIONES CONDICIONALES \n",
        "\n",
        "- if\n",
        "- if else\n",
        "- if elif else\n"
      ],
      "metadata": {
        "id": "yMxa6bC0oi8q"
      }
    },
    {
      "cell_type": "code",
      "execution_count": null,
      "metadata": {
        "id": "Pp6ae0k4obwV"
      },
      "outputs": [],
      "source": [
        "#Programa que permite realizar un préstamo bancario, teniendo en cuenta una serie de requisitos.\n",
        "\n",
        "print(\"------------------------------\")\n",
        "print(\"------ PRÉSTAMO BANCARIO -----\")\n",
        "print(\"------------------------------\")\n",
        "\n",
        "#input \n",
        "ingresos=int(input(\"¿Cuántos son sus ingresos?: \"))\n",
        "\n",
        "#processing \n",
        "if ingresos<945200:\n",
        "    print(\"No es apto para recibir el préstamo\")\n",
        "else: \n",
        "    deudas=int(input(\"¿Posee deudas? 1)Sí 2)No: \"))\n",
        "    if deudas==2:\n",
        "        print(\"Es apto para recibir el préstamo\")\n",
        "    else: \n",
        "        print(\"No es apto para recibir el préstamo\")"
      ]
    },
    {
      "cell_type": "code",
      "source": [
        "# Programa para calcular el gasto de agua de una vivienda.\n",
        "\n",
        "print(\"---------------------------\")\n",
        "print(\"------ GASTO DE AGUA ------\")\n",
        "print(\"---------------------------\")\n",
        "\n",
        "cuota_fija=10000\n",
        "\n",
        "#input \n",
        "m3=int(input(\"Ingrese los m3 de agua gastados: \"))\n",
        "\n",
        "#processing \n",
        "if m3<50:\n",
        "    print(\"El valor a pagar es de: \" + str(cuota_fija))\n",
        "else:\n",
        "    if m3>=50 and m3<=200:\n",
        "        cobro1=cuota_fija+2000*(m3-50)\n",
        "        print(\"El valor a pagar es de: \" + str(cobro1))\n",
        "    else: \n",
        "        cobro2=cuota_fija+3000*(m3-50)\n",
        "        print(\"El valor a pagar es de: \" + str(cobro2))"
      ],
      "metadata": {
        "id": "ykN_qD03pQr1"
      },
      "execution_count": null,
      "outputs": []
    },
    {
      "cell_type": "code",
      "source": [
        "#Programa que calcula el índice de masa corporal de una persona (IMC = peso[kg] / altura2 [m]) e indica el estado en el que se encuentra esa persona en función del valor del IMC\n",
        "print(\"---------------\")\n",
        "print(\"------IMC------\")\n",
        "print(\"---------------\")\n",
        "\n",
        "#input \n",
        "peso=int(input(\"Ingrese su peso: \"))\n",
        "altura=float(input(\"Ingrese su altura: \"))\n",
        "\n",
        "#processing\n",
        "IMC=peso/(altura*altura)\n",
        "\n",
        "#output \n",
        "if IMC<16:\n",
        "    print(\"Su estado es: \" + \"Criterio de ingreso a hospital.\")\n",
        "else:\n",
        "    if IMC>=16 and IMC<17:\n",
        "        print(\"Su estado es: \" + \"Infrapeso\")\n",
        "    else:\n",
        "        if IMC>=17 and IMC<18:\n",
        "            print(\"Su estado es: \" + \"Bajo peso\")\n",
        "        else: \n",
        "            if IMC>=18 and IMC<25:\n",
        "                print(\"Su estado es: \" + \"Peso normal(Saludable)\")\n",
        "            else:\n",
        "                if IMC>=25 and IMC<30:\n",
        "                    print(\"Su estado es: \" + \"Sobrepeso(Obesidad de grado I)\")\n",
        "                else:\n",
        "                    if IMC>=30 and IMC<35:\n",
        "                        print(\"Su estado es: \" + \"Sobrepeso crónico(Obesidad de grado II)\")\n",
        "                    else: \n",
        "                        if IMC>=35 and IMC<40:\n",
        "                             print(\"Su estado es: \" + \"Obesidad premórbida(Obesidad de grado III)\")\n",
        "                        else:  \n",
        "                         print(\"Su estado es: \" + \"Obesidad mórbida(Obesidad de grado IV)\")"
      ],
      "metadata": {
        "id": "yw1QaCz2pcV7"
      },
      "execution_count": null,
      "outputs": []
    }
  ]
}