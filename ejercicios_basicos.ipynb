{
  "nbformat": 4,
  "nbformat_minor": 0,
  "metadata": {
    "colab": {
      "provenance": [],
      "authorship_tag": "ABX9TyPX5N8qF3H8P64ynLC2B7MO",
      "include_colab_link": true
    },
    "kernelspec": {
      "name": "python3",
      "display_name": "Python 3"
    },
    "language_info": {
      "name": "python"
    }
  },
  "cells": [
    {
      "cell_type": "markdown",
      "metadata": {
        "id": "view-in-github",
        "colab_type": "text"
      },
      "source": [
        "<a href=\"https://colab.research.google.com/github/Paugs09/ejercicios_basicos-colab/blob/main/ejercicios_basicos.ipynb\" target=\"_parent\"><img src=\"https://colab.research.google.com/assets/colab-badge.svg\" alt=\"Open In Colab\"/></a>"
      ]
    },
    {
      "cell_type": "markdown",
      "source": [
        "# Ejercicios básicos Python\n",
        "\n",
        "1. Suma de dos números\n",
        "2. Potencia de un número"
      ],
      "metadata": {
        "id": "pUFYbk1zgiji"
      }
    },
    {
      "cell_type": "code",
      "execution_count": null,
      "metadata": {
        "id": "FpQbytfRR3Nk"
      },
      "outputs": [],
      "source": [
        "# Suma de dos números enteros\n",
        "\n",
        "print(\"----------------------------\")\n",
        "print(\"------SUMA DOS ENTEROS------\")\n",
        "print(\"----------------------------\")\n",
        "\n",
        "# input\n",
        "x=int(input(\"Digite el valor de x: \"))\n",
        "y=int(input(\"Digite el valor de y: \"))\n",
        "\n",
        "# processing \n",
        "z= x+y \n",
        "\n",
        "# output\n",
        "print(\"La suma de \",x,\" + \",y,\" es \",z)"
      ]
    },
    {
      "cell_type": "code",
      "source": [
        "# Potencia de un número\n",
        "\n",
        "print(\"----------------------------\")\n",
        "print(\"----------POTENCIA----------\")\n",
        "print(\"----------------------------\")\n",
        "\n",
        "# input\n",
        "x= int(input(\"Digite el valor de x: \"))\n",
        "y= int(input(\"Digite el valor de y: \"))\n",
        "\n",
        "# processing\n",
        "z= x**y\n",
        "# output\n",
        "print(x, \" elevado a la \", y, \" es \",z)"
      ],
      "metadata": {
        "id": "yCaFfuERkRF3"
      },
      "execution_count": null,
      "outputs": []
    }
  ]
}